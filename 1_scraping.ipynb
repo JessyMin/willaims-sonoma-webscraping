{
 "cells": [
  {
   "cell_type": "markdown",
   "metadata": {},
   "source": [
    "### 크롬드라이버로 제어할 브라우저 띄우기"
   ]
  },
  {
   "cell_type": "code",
   "execution_count": 5,
   "metadata": {},
   "outputs": [],
   "source": [
    "from selenium import webdriver\n",
    "from selenium.webdriver.common.keys import Keys\n",
    "\n",
    "chromedriver = '/usr/local/bin/chromedriver'\n",
    "driver = webdriver.Chrome(chromedriver)\n",
    "\n",
    "\n"
   ]
  },
  {
   "cell_type": "markdown",
   "metadata": {},
   "source": [
    "### 타겟 URL에 접속하기"
   ]
  },
  {
   "cell_type": "code",
   "execution_count": 6,
   "metadata": {},
   "outputs": [],
   "source": [
    "# Breville One-touch Tea Maker\n",
    "url = \"https://www.williams-sonoma.com/products/breville-one-touch-tea-maker/?pkey=celectrics-teakettles&isx=0.0.1178\"\n",
    "driver.get(url)"
   ]
  },
  {
   "cell_type": "markdown",
   "metadata": {},
   "source": [
    "### 고객리뷰 제목 크롤링"
   ]
  },
  {
   "cell_type": "code",
   "execution_count": 8,
   "metadata": {},
   "outputs": [],
   "source": [
    "titles = driver.find_elements_by_class_name('bv-content-title')"
   ]
  },
  {
   "cell_type": "code",
   "execution_count": 9,
   "metadata": {},
   "outputs": [
    {
     "name": "stdout",
     "output_type": "stream",
     "text": [
      "Rating Snapshot\n",
      "Average Customer Ratings\n",
      "Easy to use and clean. Great tea!\n",
      "Great addition to my kitchen!\n",
      "Love it\n",
      "Junk\n",
      "Response from Williams-Sonoma:\n",
      "Heating Element went out after 9 mos. of daily use\n",
      "Love it!\n",
      "Not able to repair\n",
      "Love it\n",
      "\n",
      "\n"
     ]
    }
   ],
   "source": [
    "for i in titles:\n",
    "    print(i.text)"
   ]
  },
  {
   "cell_type": "code",
   "execution_count": 10,
   "metadata": {},
   "outputs": [],
   "source": [
    "bodies = driver.find_elements_by_class_name('bv-content-summary-body-text')"
   ]
  },
  {
   "cell_type": "code",
   "execution_count": 14,
   "metadata": {},
   "outputs": [
    {
     "name": "stdout",
     "output_type": "stream",
     "text": [
      "I switched from sodas to teas years ago. For years my tea did not taste as I expected. I always thought that kettles were a waste of money. Not anymore! I love, love this tea kettle. Easy to use.\n",
      "I always buy loose leaf tea and now it tastes as expected. I a big fan of Breville products. Well worth the cost.\n",
      "--------------------------------\n",
      "I've always been a tea drinker and only buy loose tea. I love that i can pre program this at night and that way i have fresh tea by the time i wake up! My biggest plus is getting the most of my tea variations by steeping it for the right amount of time and temperature. I can set it and walk away. Before i had to set an alarm and wait around till it was ready, well i'd always be caught up with something else and come to burnt tea or over steeped tea that was cold. I had been eyeing this product for over 6 years and never pulled the trigger, now i'm thinking, why did i wait this long??\n",
      "--------------------------------\n",
      "I happen to love the Breville tea maker. It just makes me happy to have a perfect cup of tea brewed at the right temp. It makes a difference then just trying to wing it with a standard tea kettle. I find it easy to clean with some soapy dish washing liquid and bam your done. I have had mine for over a year and I drink tea daily. It's my little peace of happiness next to my coffee maker. #smallthingsmakeyouhappy\n",
      "--------------------------------\n",
      "New kitchen. Bought 4 Breville appliances. Two weeks ago the toaster oven quit. This morning the teamaker followed suit. Which one will self-destruct next? For the prices they charge I expected a modicum of quality and durability.\n",
      "--------------------------------\n",
      "At Breville, our aim is to deliver innovative product and a premier consumer experience. Please give us the opportunity to correct the situation by contacting our dedicated customer care team at 1-866-273-8455 (M-F, 8am-5pm PT) or at productreviews@brevilleusa.com\n",
      "--------------------------------\n",
      "Company did not stand behind warranty. Would have been cheaper to buy another pot than have it fixed. I loved my tea maker and used it daily. These smart tea pots are made like Apple phones. They need a major upgrade. When I read reviews prior to requesting as a Xmas gift, I noticed many people said their tea maker started to malfunction after a year. I thought I would be a lucky one and mine would last forever or at least the warranty would help. To fix it would mean a new kettle and it is as much as the tea maker. Shame on you Brevelle!\n",
      "--------------------------------\n",
      "We’ve used this for tea daily for three years. My husband drinks cold tea. I drink hot. We like different kinds from time to time. This does it all perfectly. At least one pot maybe two a day without fail. Fantastic product!\n",
      "--------------------------------\n",
      "The basket quit working after a couple years of minimal use. I wasn't able to get replacement parts or have the pot repaired.\n",
      "--------------------------------\n",
      "Easy to get the discoloration out of the bottom with a magic eraser, it shines like it is brand new.\n",
      "--------------------------------\n",
      "\n",
      "--------------------------------\n"
     ]
    }
   ],
   "source": [
    "for i in bodies:\n",
    "    print(i.text)\n",
    "    print('--------------------------------')"
   ]
  },
  {
   "cell_type": "code",
   "execution_count": null,
   "metadata": {},
   "outputs": [],
   "source": []
  },
  {
   "cell_type": "markdown",
   "metadata": {},
   "source": [
    "### 페이지네이션 버튼 클릭하기"
   ]
  },
  {
   "cell_type": "code",
   "execution_count": 15,
   "metadata": {},
   "outputs": [],
   "source": [
    "button = driver.find_element_by_class_name(\"bv-content-btn-pages-next\")\n",
    "button.click()"
   ]
  },
  {
   "cell_type": "code",
   "execution_count": null,
   "metadata": {},
   "outputs": [],
   "source": []
  }
 ],
 "metadata": {
  "kernelspec": {
   "display_name": "Python 3",
   "language": "python",
   "name": "python3"
  },
  "language_info": {
   "codemirror_mode": {
    "name": "ipython",
    "version": 3
   },
   "file_extension": ".py",
   "mimetype": "text/x-python",
   "name": "python",
   "nbconvert_exporter": "python",
   "pygments_lexer": "ipython3",
   "version": "3.7.3"
  }
 },
 "nbformat": 4,
 "nbformat_minor": 2
}
