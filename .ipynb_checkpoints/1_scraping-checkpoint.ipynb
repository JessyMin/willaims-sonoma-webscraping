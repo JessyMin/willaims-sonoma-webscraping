{
 "cells": [
  {
   "cell_type": "markdown",
   "metadata": {},
   "source": [
    "### 크롬드라이버로 제어할 브라우저 띄우기"
   ]
  },
  {
   "cell_type": "code",
   "execution_count": 1,
   "metadata": {},
   "outputs": [],
   "source": [
    "from selenium import webdriver\n",
    "from selenium.webdriver.common.keys import Keys\n",
    "import time\n",
    "\n",
    "chromedriver = '/usr/local/bin/chromedriver'\n",
    "driver = webdriver.Chrome(chromedriver)\n",
    "\n",
    "\n"
   ]
  },
  {
   "cell_type": "markdown",
   "metadata": {},
   "source": [
    "### 타겟 URL에 접속하기"
   ]
  },
  {
   "cell_type": "code",
   "execution_count": 2,
   "metadata": {},
   "outputs": [],
   "source": [
    "# Breville One-touch Tea Maker\n",
    "url = \"https://www.williams-sonoma.com/products/breville-one-touch-tea-maker/?pkey=celectrics-teakettles&isx=0.0.1178\"\n",
    "driver.get(url)\n",
    "\n",
    "cancel = driver.find_element_by_class_name(\"redirect-cancel\")\n",
    "cancel.click()"
   ]
  },
  {
   "cell_type": "markdown",
   "metadata": {},
   "source": [
    "### 고객리뷰 제목 크롤링"
   ]
  },
  {
   "cell_type": "code",
   "execution_count": 3,
   "metadata": {},
   "outputs": [],
   "source": [
    "titles = driver.find_elements_by_class_name('bv-content-title-container')"
   ]
  },
  {
   "cell_type": "code",
   "execution_count": 4,
   "metadata": {},
   "outputs": [
    {
     "name": "stdout",
     "output_type": "stream",
     "text": [
      "Easy to use and clean. Great tea!\n",
      "Great addition to my kitchen!\n",
      "Love it\n",
      "Junk\n",
      "\n",
      "Heating Element went out after 9 mos. of daily use\n",
      "Love it!\n",
      "Not able to repair\n",
      "Love it\n",
      "\n",
      "\n"
     ]
    }
   ],
   "source": [
    "for title in titles:\n",
    "    print(title.text)"
   ]
  },
  {
   "cell_type": "code",
   "execution_count": 6,
   "metadata": {},
   "outputs": [
    {
     "name": "stdout",
     "output_type": "stream",
     "text": [
      "['easy to use and clean. great tea!', 'great addition to my kitchen!', 'love it', 'junk', '', 'heating element went out after 9 mos. of daily use', 'love it!', 'not able to repair', 'love it', '', '']\n"
     ]
    }
   ],
   "source": [
    "title_list = []\n",
    "for title in titles:\n",
    "    title_list.append(title.text.lower())\n",
    "    \n",
    "print(title_list)"
   ]
  },
  {
   "cell_type": "code",
   "execution_count": null,
   "metadata": {},
   "outputs": [],
   "source": []
  },
  {
   "cell_type": "markdown",
   "metadata": {},
   "source": [
    "### 특수문자 제거하기"
   ]
  },
  {
   "cell_type": "code",
   "execution_count": 23,
   "metadata": {},
   "outputs": [
    {
     "name": "stdout",
     "output_type": "stream",
     "text": [
      "['easy to use and clean great tea', 'great addition to my kitchen', 'love it', 'junk', '', 'heating element went out after 9 mos of daily use', 'love it', 'not able to repair', 'love it', '', '']\n"
     ]
    }
   ],
   "source": [
    "import re\n",
    "\n",
    "title_list2 = []\n",
    "\n",
    "for title in title_list:\n",
    "    title = re.sub('[\\{\\}\\[\\]\\/?.,;:|\\)*~`!^\\-_+<>@\\#$%&\\\\\\=\\(\\’\\”]', '', title)\n",
    "    title_list2.append(title)\n",
    "    \n",
    "print(title_list2)"
   ]
  },
  {
   "cell_type": "markdown",
   "metadata": {},
   "source": [
    "### 단어 파싱하기"
   ]
  },
  {
   "cell_type": "code",
   "execution_count": 6,
   "metadata": {},
   "outputs": [
    {
     "name": "stderr",
     "output_type": "stream",
     "text": [
      "[nltk_data] Downloading package stopwords to\n",
      "[nltk_data]     /Users/minjiyeon/nltk_data...\n",
      "[nltk_data]   Unzipping corpora/stopwords.zip.\n"
     ]
    },
    {
     "data": {
      "text/plain": [
       "True"
      ]
     },
     "execution_count": 6,
     "metadata": {},
     "output_type": "execute_result"
    }
   ],
   "source": [
    "import nltk\n",
    "nltk.download('stopwords')"
   ]
  },
  {
   "cell_type": "code",
   "execution_count": 7,
   "metadata": {},
   "outputs": [],
   "source": [
    "from nltk.corpus import stopwords\n",
    "stopwords = set(stopwords.words('english'))"
   ]
  },
  {
   "cell_type": "code",
   "execution_count": 8,
   "metadata": {},
   "outputs": [
    {
     "ename": "NameError",
     "evalue": "name 'retokenize' is not defined",
     "output_type": "error",
     "traceback": [
      "\u001b[0;31m---------------------------------------------------------------------------\u001b[0m",
      "\u001b[0;31mNameError\u001b[0m                                 Traceback (most recent call last)",
      "\u001b[0;32m<ipython-input-8-7aafb6d9531f>\u001b[0m in \u001b[0;36m<module>\u001b[0;34m\u001b[0m\n\u001b[1;32m      2\u001b[0m \u001b[0;34m\u001b[0m\u001b[0m\n\u001b[1;32m      3\u001b[0m \u001b[0mtest\u001b[0m \u001b[0;34m=\u001b[0m \u001b[0;34m'hi my name is Jiyeon min nice to meet you how do you do'\u001b[0m\u001b[0;34m\u001b[0m\u001b[0;34m\u001b[0m\u001b[0m\n\u001b[0;32m----> 4\u001b[0;31m \u001b[0mtext\u001b[0m \u001b[0;34m=\u001b[0m \u001b[0mText\u001b[0m\u001b[0;34m(\u001b[0m\u001b[0mretokenize\u001b[0m\u001b[0;34m.\u001b[0m\u001b[0mtokenize\u001b[0m\u001b[0;34m(\u001b[0m\u001b[0mtest\u001b[0m\u001b[0;34m)\u001b[0m\u001b[0;34m)\u001b[0m\u001b[0;34m\u001b[0m\u001b[0;34m\u001b[0m\u001b[0m\n\u001b[0m\u001b[1;32m      5\u001b[0m \u001b[0mtext\u001b[0m\u001b[0;34m.\u001b[0m\u001b[0mplot\u001b[0m\u001b[0;34m(\u001b[0m\u001b[0;36m10\u001b[0m\u001b[0;34m)\u001b[0m\u001b[0;34m\u001b[0m\u001b[0;34m\u001b[0m\u001b[0m\n\u001b[1;32m      6\u001b[0m \u001b[0mplt\u001b[0m\u001b[0;34m.\u001b[0m\u001b[0mshow\u001b[0m\u001b[0;34m(\u001b[0m\u001b[0;34m)\u001b[0m\u001b[0;34m\u001b[0m\u001b[0;34m\u001b[0m\u001b[0m\n",
      "\u001b[0;31mNameError\u001b[0m: name 'retokenize' is not defined"
     ]
    }
   ],
   "source": [
    "from nltk import Text\n",
    "\n",
    "test = 'hi my name is Jiyeon min nice to meet you how do you do'\n",
    "text = Text(retokenize.tokenize(test))\n",
    "text.plot(10)\n",
    "plt.show()"
   ]
  },
  {
   "cell_type": "code",
   "execution_count": null,
   "metadata": {},
   "outputs": [],
   "source": []
  },
  {
   "cell_type": "code",
   "execution_count": null,
   "metadata": {},
   "outputs": [],
   "source": [
    "import re\n",
    "#title_list_re = re.findall(r\"\\w+\", title_list)\n",
    "#print(title_list_re)\n",
    "\n",
    "text_string = \"abc defge abc defge abc\"\n",
    "match_pattern = re.search(r'\\b[a-z]{3,15}\\b', text_string)\n",
    "\n",
    "print(match_pattern)\n"
   ]
  },
  {
   "cell_type": "code",
   "execution_count": null,
   "metadata": {},
   "outputs": [],
   "source": [
    "for word in match_pattern:\n",
    "    count = frequency.get(word, 0)\n",
    "    frequency[word] = count + 1\n",
    "\n",
    "     \n",
    "frequency_list = frequency.keys()\n",
    " \n",
    "for words in frequency_list:\n",
    "    print (words, frequency[words])"
   ]
  },
  {
   "cell_type": "code",
   "execution_count": null,
   "metadata": {},
   "outputs": [],
   "source": [
    "# 빈도수 구하기\n",
    "\n",
    "from collections import Counter"
   ]
  },
  {
   "cell_type": "code",
   "execution_count": null,
   "metadata": {},
   "outputs": [],
   "source": []
  },
  {
   "cell_type": "code",
   "execution_count": null,
   "metadata": {},
   "outputs": [],
   "source": []
  },
  {
   "cell_type": "markdown",
   "metadata": {},
   "source": [
    "## 여러 페이지 크롤링하기"
   ]
  },
  {
   "cell_type": "markdown",
   "metadata": {},
   "source": [
    "### 고객리뷰 제목 : 여러 페이지 크롤링"
   ]
  },
  {
   "cell_type": "code",
   "execution_count": 24,
   "metadata": {},
   "outputs": [],
   "source": [
    "\n",
    "titles = driver.find_elements_by_class_name('bv-content-title')\n"
   ]
  },
  {
   "cell_type": "code",
   "execution_count": 18,
   "metadata": {},
   "outputs": [],
   "source": [
    "for i in range(1,5):\n",
    "    next_page_click()\n",
    "    time.sleep(3)\n",
    "    \n"
   ]
  },
  {
   "cell_type": "code",
   "execution_count": 28,
   "metadata": {},
   "outputs": [],
   "source": [
    "driver.quit()"
   ]
  },
  {
   "cell_type": "markdown",
   "metadata": {},
   "source": [
    "### 페이지네이션 버튼 클릭하기"
   ]
  },
  {
   "cell_type": "code",
   "execution_count": 20,
   "metadata": {},
   "outputs": [],
   "source": [
    "def next_page_click():\n",
    "    button = driver.find_element_by_class_name(\"bv-content-btn-pages-next\")\n",
    "    button.click()"
   ]
  },
  {
   "cell_type": "markdown",
   "metadata": {},
   "source": [
    "### 고객리뷰 본문 크롤링하기"
   ]
  },
  {
   "cell_type": "code",
   "execution_count": 6,
   "metadata": {},
   "outputs": [],
   "source": [
    "bodies = driver.find_elements_by_class_name('bv-content-summary-body-text')"
   ]
  },
  {
   "cell_type": "code",
   "execution_count": 7,
   "metadata": {},
   "outputs": [
    {
     "name": "stdout",
     "output_type": "stream",
     "text": [
      "I switched from sodas to teas years ago. For years my tea did not taste as I expected. I always thought that kettles were a waste of money. Not anymore! I love, love this tea kettle. Easy to use.\n",
      "I always buy loose leaf tea and now it tastes as expected. I a big fan of Breville products. Well worth the cost.\n",
      "--------------------------------\n",
      "I've always been a tea drinker and only buy loose tea. I love that i can pre program this at night and that way i have fresh tea by the time i wake up! My biggest plus is getting the most of my tea variations by steeping it for the right amount of time and temperature. I can set it and walk away. Before i had to set an alarm and wait around till it was ready, well i'd always be caught up with something else and come to burnt tea or over steeped tea that was cold. I had been eyeing this product for over 6 years and never pulled the trigger, now i'm thinking, why did i wait this long??\n",
      "--------------------------------\n",
      "I happen to love the Breville tea maker. It just makes me happy to have a perfect cup of tea brewed at the right temp. It makes a difference then just trying to wing it with a standard tea kettle. I find it easy to clean with some soapy dish washing liquid and bam your done. I have had mine for over a year and I drink tea daily. It's my little peace of happiness next to my coffee maker. #smallthingsmakeyouhappy\n",
      "--------------------------------\n",
      "New kitchen. Bought 4 Breville appliances. Two weeks ago the toaster oven quit. This morning the teamaker followed suit. Which one will self-destruct next? For the prices they charge I expected a modicum of quality and durability.\n",
      "--------------------------------\n",
      "At Breville, our aim is to deliver innovative product and a premier consumer experience. Please give us the opportunity to correct the situation by contacting our dedicated customer care team at 1-866-273-8455 (M-F, 8am-5pm PT) or at productreviews@brevilleusa.com\n",
      "--------------------------------\n",
      "Company did not stand behind warranty. Would have been cheaper to buy another pot than have it fixed. I loved my tea maker and used it daily. These smart tea pots are made like Apple phones. They need a major upgrade. When I read reviews prior to requesting as a Xmas gift, I noticed many people said their tea maker started to malfunction after a year. I thought I would be a lucky one and mine would last forever or at least the warranty would help. To fix it would mean a new kettle and it is as much as the tea maker. Shame on you Brevelle!\n",
      "--------------------------------\n",
      "We’ve used this for tea daily for three years. My husband drinks cold tea. I drink hot. We like different kinds from time to time. This does it all perfectly. At least one pot maybe two a day without fail. Fantastic product!\n",
      "--------------------------------\n",
      "The basket quit working after a couple years of minimal use. I wasn't able to get replacement parts or have the pot repaired.\n",
      "--------------------------------\n",
      "Easy to get the discoloration out of the bottom with a magic eraser, it shines like it is brand new.\n",
      "--------------------------------\n",
      "\n",
      "--------------------------------\n"
     ]
    }
   ],
   "source": [
    "for i in bodies:\n",
    "    print(i.text)\n",
    "    print('--------------------------------')"
   ]
  },
  {
   "cell_type": "code",
   "execution_count": 8,
   "metadata": {},
   "outputs": [],
   "source": [
    "driver.quit()"
   ]
  },
  {
   "cell_type": "code",
   "execution_count": null,
   "metadata": {},
   "outputs": [],
   "source": []
  }
 ],
 "metadata": {
  "kernelspec": {
   "display_name": "Python 3",
   "language": "python",
   "name": "python3"
  },
  "language_info": {
   "codemirror_mode": {
    "name": "ipython",
    "version": 3
   },
   "file_extension": ".py",
   "mimetype": "text/x-python",
   "name": "python",
   "nbconvert_exporter": "python",
   "pygments_lexer": "ipython3",
   "version": "3.7.3"
  }
 },
 "nbformat": 4,
 "nbformat_minor": 2
}
